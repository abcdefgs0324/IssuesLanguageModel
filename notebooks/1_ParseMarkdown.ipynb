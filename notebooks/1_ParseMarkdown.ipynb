{
 "cells": [
  {
   "cell_type": "code",
   "execution_count": 13,
   "metadata": {},
   "outputs": [],
   "source": [
    "from bs4 import BeautifulSoup as bs\n",
    "import bs4\n",
    "import mistune\n",
    "from timeout_decorator import TimeoutError, timeout\n",
    "from IPython.display import display, Markdown\n",
    "from fastai.core import compose, listify, partial\n",
    "from fastai.text.transform import fix_html, SpacyTokenizer\n",
    "from typing import List, Union, Callable\n",
    "from urllib3.util import parse_url \n",
    "from tqdm import tqdm_notebook\n",
    "import re\n",
    "import ast\n",
    "from textacy.preprocess import preprocess_text, normalize_whitespace\n",
    "from textacy.text_utils import detect_language"
   ]
  },
  {
   "cell_type": "markdown",
   "metadata": {},
   "source": [
    "## Test Markdown"
   ]
  },
  {
   "cell_type": "code",
   "execution_count": 3,
   "metadata": {},
   "outputs": [
    {
     "data": {
      "text/plain": [
       "'en'"
      ]
     },
     "execution_count": 3,
     "metadata": {},
     "output_type": "execute_result"
    }
   ],
   "source": [
    "txt_generalize_symbols = partial(preprocess_text, \n",
    "                                 fix_unicode=True, \n",
    "                                 no_urls=True, \n",
    "                                 no_emails=True, \n",
    "                                 no_phone_numbers=True)\n",
    "\n",
    "\n",
    "\n",
    "detect_language('Hello world!')"
   ]
  },
  {
   "cell_type": "code",
   "execution_count": 8,
   "metadata": {},
   "outputs": [
    {
     "data": {
      "text/markdown": [
       "# This is a test markdown that has different types of formatting\n",
       "## Header 2\n",
       " Hello **world** this is going to be a long sentence that. also has a newline:\n",
       " lala lala\n",
       " \n",
       "continuing the sentence here.\n",
       "more text.\n",
       " \n",
       " - bullet 1\n",
       " - bullet 2\n",
       " \n",
       "\"quoted text\"\n",
       "\n",
       "#### a small header\n",
       "\n",
       "```python\n",
       "def something(x):\n",
       "    \"\"\"docstring\"\"\"\n",
       "    #some comment\n",
       "    somevar = 123\n",
       "    anothervar = somevar * 3\n",
       "    for i in range(33):\n",
       "        anothervar *= i\n",
       "    \n",
       "    if i % 2 == 0:\n",
       "        return True\n",
       "    else:\n",
       "        return False\n",
       "```\n",
       "\n",
       "@mention somebody\n",
       "\n",
       "> blockquote text is here!\n",
       " \n",
       " [hobbit-hole][1]\n",
       " \n",
       " 1. first\n",
       " \n",
       " 2. second\n",
       " \n",
       "\n",
       " > what this?\n",
       " \n",
       " ![Tux, the Linux mascot](https://d33wubrfki0l68.cloudfront.net/e7ed9fe4bafe46e275c807d63591f85f9ab246ba/e2d28/assets/images/tux.png)\n",
       " \n",
       " \n",
       " [1]: <https://en.wikipedia.org/wiki/Hobbit#Lifestyle> \"Hobbit lifestyles\"\n",
       " \n",
       "| First Header  | Second Header |\n",
       "| ------------- | ------------- |\n",
       "| Content Cell  | Content Cell  |\n",
       "| Content Cell  | Content Cell  |\n",
       " \n",
       " ----\n",
       " \n",
       " Hello `something` here and __stuff__ is _there_.  [google](www.google.com). random text\n",
       "    \n",
       "~~The world is flat.~~ We now know that the world is round.\n",
       "\n",
       "- [x] Write the press release\n",
       "- [ ] Update the website\n",
       "- [ ] Contact the media\n",
       "\n",
       "\n",
       "`http://www.example.com`\n",
       "\n",
       " "
      ],
      "text/plain": [
       "<IPython.core.display.Markdown object>"
      ]
     },
     "metadata": {},
     "output_type": "display_data"
    }
   ],
   "source": [
    "mdtext = \"\"\"# This is a test markdown that has different types of formatting\n",
    "## Header 2\n",
    " Hello **world** this is going to be a long sentence that. also has a newline:\n",
    " lala lala\n",
    " \n",
    "continuing the sentence here.\n",
    "more text.\n",
    " \n",
    " - bullet 1\n",
    " - bullet 2\n",
    " \n",
    "\"quoted text\"\n",
    "\n",
    "#### a small header\n",
    "\n",
    "```python\n",
    "def something(x):\n",
    "    \\\"\"\"docstring\\\"\"\"\n",
    "    #some comment\n",
    "    somevar = 123\n",
    "    anothervar = somevar * 3\n",
    "    for i in range(33):\n",
    "        anothervar *= i\n",
    "    \n",
    "    if i % 2 == 0:\n",
    "        return True\n",
    "    else:\n",
    "        return False\n",
    "```\n",
    "\n",
    "@mention somebody\n",
    "\n",
    "> blockquote text is here!\n",
    " \n",
    " [hobbit-hole][1]\n",
    " \n",
    " 1. first\n",
    " \n",
    " 2. second\n",
    " \n",
    "\n",
    " > what this?\n",
    " \n",
    " ![Tux, the Linux mascot](https://d33wubrfki0l68.cloudfront.net/e7ed9fe4bafe46e275c807d63591f85f9ab246ba/e2d28/assets/images/tux.png)\n",
    " \n",
    " \n",
    " [1]: <https://en.wikipedia.org/wiki/Hobbit#Lifestyle> \"Hobbit lifestyles\"\n",
    " \n",
    "| First Header  | Second Header |\n",
    "| ------------- | ------------- |\n",
    "| Content Cell  | Content Cell  |\n",
    "| Content Cell  | Content Cell  |\n",
    " \n",
    " ----\n",
    " \n",
    " Hello `something` here and __stuff__ is _there_.  [google](www.google.com). random text\n",
    "    \n",
    "~~The world is flat.~~ We now know that the world is round.\n",
    "\n",
    "- [x] Write the press release\n",
    "- [ ] Update the website\n",
    "- [ ] Contact the media\n",
    "\n",
    "\n",
    "`http://www.example.com`\n",
    "\n",
    " \"\"\"\n",
    "\n",
    "display(Markdown(mdtext))"
   ]
  },
  {
   "cell_type": "code",
   "execution_count": 9,
   "metadata": {},
   "outputs": [],
   "source": [
    "markdown = mistune.Markdown()\n",
    "parsed = markdown(mdtext)"
   ]
  },
  {
   "cell_type": "markdown",
   "metadata": {},
   "source": [
    "## The Markdown File Rendered as HTML"
   ]
  },
  {
   "cell_type": "code",
   "execution_count": 10,
   "metadata": {},
   "outputs": [
    {
     "data": {
      "text/plain": [
       "<html><head></head><body><h1>This is a test markdown that has different types of formatting</h1>\n",
       "<h2>Header 2</h2>\n",
       "<p>Hello <strong>world</strong> this is going to be a long sentence that. also has a newline:\n",
       " lala lala</p>\n",
       "<p>continuing the sentence here.\n",
       "more text.</p>\n",
       "<ul>\n",
       "<li>bullet 1</li>\n",
       "<li>bullet 2</li>\n",
       "</ul>\n",
       "<p>\"quoted text\"</p>\n",
       "<h4>a small header</h4>\n",
       "<pre><code class=\"lang-python\">def something(x):\n",
       "    \"\"\"docstring\"\"\"\n",
       "    #some comment\n",
       "    somevar = 123\n",
       "    anothervar = somevar * 3\n",
       "    for i in range(33):\n",
       "        anothervar *= i\n",
       "\n",
       "    if i % 2 == 0:\n",
       "        return True\n",
       "    else:\n",
       "        return False\n",
       "</code></pre>\n",
       "<p>@mention somebody</p>\n",
       "<blockquote><p>blockquote text is here!</p>\n",
       "</blockquote>\n",
       "<p><a href=\"https://en.wikipedia.org/wiki/Hobbit#Lifestyle\" title=\"Hobbit lifestyles\">hobbit-hole</a></p>\n",
       "<ol>\n",
       "<li><p>first</p>\n",
       "</li>\n",
       "<li><p>second</p>\n",
       "</li>\n",
       "</ol>\n",
       "<blockquote><p>what this?</p>\n",
       "</blockquote>\n",
       "<p><img alt=\"Tux, the Linux mascot\" src=\"https://d33wubrfki0l68.cloudfront.net/e7ed9fe4bafe46e275c807d63591f85f9ab246ba/e2d28/assets/images/tux.png\"/></p>\n",
       "<table>\n",
       "<thead><tr>\n",
       "<th>First Header</th>\n",
       "<th>Second Header</th>\n",
       "</tr>\n",
       "</thead>\n",
       "<tbody>\n",
       "<tr>\n",
       "<td>Content Cell</td>\n",
       "<td>Content Cell</td>\n",
       "</tr>\n",
       "<tr>\n",
       "<td>Content Cell</td>\n",
       "<td>Content Cell</td>\n",
       "</tr>\n",
       "</tbody>\n",
       "</table>\n",
       "<hr/>\n",
       "<p>Hello <code>something</code> here and <strong>stuff</strong> is <em>there</em>.  <a href=\"www.google.com\">google</a>. random text</p>\n",
       "<p><del>The world is flat.</del> We now know that the world is round.</p>\n",
       "<ul>\n",
       "<li>[x] Write the press release</li>\n",
       "<li>[ ] Update the website</li>\n",
       "<li>[ ] Contact the media</li>\n",
       "</ul>\n",
       "<p><code>http://www.example.com</code></p>\n",
       "</body></html>"
      ]
     },
     "execution_count": 10,
     "metadata": {},
     "output_type": "execute_result"
    }
   ],
   "source": [
    "soup = bs(parsed)\n",
    "soup"
   ]
  },
  {
   "cell_type": "markdown",
   "metadata": {},
   "source": [
    "### Lang detection\n",
    "\n",
    "```python\n",
    "textacy.text_utils.detect_language(text) == \"en\"\n",
    "```"
   ]
  },
  {
   "cell_type": "markdown",
   "metadata": {},
   "source": [
    "# Rendered as Plain Text With Annotations"
   ]
  },
  {
   "cell_type": "code",
   "execution_count": 106,
   "metadata": {},
   "outputs": [],
   "source": [
    "#export\n",
    "class md:\n",
    "    @staticmethod\n",
    "    def parse(x:str) -> bs4.BeautifulSoup:\n",
    "        \n",
    "        # find & replace html, which can break things (non-greedy)\n",
    "        x = re.sub(r'<.+?>.+?</.+?>|<[a-zA-Z]{1,}.*?>', 'xxxhtml', x, re.DOTALL)\n",
    "        \n",
    "        #because former html replacement was non-greedy dedupe html marker\n",
    "        x = re.sub('(xxxhtml(xxxlnbrk)?(\\s)?)+', 'xxxhtml', x)\n",
    "        \n",
    "        # fix the linebreak issue from BigQuery\n",
    "        x = re.sub(r'xxxlnbrk', '\\n', x)\n",
    "       \n",
    "        @timeout(1)\n",
    "        def timed_parse(x):\n",
    "            try:\n",
    "                return bs(markdown(x))\n",
    "            \n",
    "            except TimeoutError:\n",
    "                return bs(markdown('xxxunabletoparse'))\n",
    "            \n",
    "        return timed_parse(x)\n",
    "    \n",
    "    @staticmethod\n",
    "    def prepend(fldname:str, tag:Union[List[str], str], soup:bs4.BeautifulSoup) -> bs4.BeautifulSoup:\n",
    "        for tag in soup.find_all(listify(tag)):\n",
    "            if tag.text.strip() or tag.name == 'hr':\n",
    "                tag.insert(0, fldname+' ')\n",
    "        return soup\n",
    "    \n",
    "    @staticmethod\n",
    "    def enclose(bfldname:str, efldname:str, tag:Union[List[str], str], nlines:int, soup:bs4.BeautifulSoup) -> bs4.BeautifulSoup:\n",
    "        \"\"\"Helper function for when you want to add a beginning and ending marker to text.\"\"\"\n",
    "        for tag in soup.find_all(listify(tag)):\n",
    "            \n",
    "            # preview the text inside an enclosure show nlines of beginning and nlines of the end.\n",
    "            text_lines = tag.text.split('\\n')\n",
    "            if len(text_lines) <= nlines * 2:\n",
    "                newstr = tag.text\n",
    "            else:\n",
    "                newstr = '\\n'.join(text_lines[:nlines] + text_lines[-nlines:])\n",
    "                \n",
    "            tag.string = newstr\n",
    "            \n",
    "            # add the values of the class attributes, if exist\n",
    "            tag.insert(0, bfldname + ' ' + (' '.join(tag['class']) if 'class' in tag.attrs else '') + ' ')\n",
    "            \n",
    "            # insert ending tag with/without space depending if last char is \\n\n",
    "            if tag.text[-1] == '\\n':\n",
    "                tag.append(efldname)\n",
    "            else:\n",
    "                tag.append(' ' + efldname)\n",
    "        return soup\n",
    "    \n",
    "    @staticmethod\n",
    "    def lst(soup:bs4.BeautifulSoup) -> bs4.BeautifulSoup:\n",
    "        \"annotate list elements <ul> and <ol>\"\n",
    "        for tag in soup.find_all(['ul', 'ol']):\n",
    "            # clear all the artifacts that are in lists and replace with text.\n",
    "            text = 'xxxlistB ' + tag.getText() + 'xxxlistE'\n",
    "            tag.string = text.strip()\n",
    "        return soup\n",
    "    \n",
    "    @staticmethod\n",
    "    def tbl(soup:bs4.BeautifulSoup) -> bs4.BeautifulSoup:\n",
    "        \"annotate table elements <table> only keeping information from header rows\"\n",
    "        for tag in soup.find_all('table'):\n",
    "            # empty string if there are no table headers.\n",
    "            text = ''\n",
    "            if tag.thead:\n",
    "                text = 'xxtbl ' + '|'.join([x.getText() for x in tag.thead.find_all('th')])\n",
    "            tag.string = text\n",
    "        return soup\n",
    "    \n",
    "    @staticmethod\n",
    "    def img(soup:bs4.BeautifulSoup) -> bs4.BeautifulSoup:\n",
    "        for tag in soup.find_all('img'):\n",
    "            tag.insert(0, 'xxximg ')\n",
    "            if 'alt' in tag.attrs:\n",
    "                tag.insert(1, tag['alt'])\n",
    "            if 'src' in tag.attrs:\n",
    "                tag.append(' xxximgf ' + tag['src'].split('.')[-1])\n",
    "        return soup\n",
    "    \n",
    "    @staticmethod\n",
    "    def lnk(soup:bs4.BeautifulSoup) -> bs4.BeautifulSoup:\n",
    "        for tag in soup.find_all('a'):\n",
    "            if 'href' in tag.attrs:\n",
    "                try:\n",
    "                    tag.append(' xxxlnkhb ' + parse_url(tag['href']).host + ' xxxlnkhe')\n",
    "                except:\n",
    "                    pass\n",
    "            if 'title' in tag.attrs:\n",
    "                tag.append(' xxxlnktb ' + tag['title'] + 'xxxlnkte')\n",
    "        return soup\n",
    "    \n",
    "    @staticmethod\n",
    "    def get_text(soup:bs4.BeautifulSoup) -> str:\n",
    "        \"get the raw text\"\n",
    "        text = soup.getText()\n",
    "        #translate newlines back from BigQuery\n",
    "        text = re.sub(r'\\n\\n+', '\\n', text)\n",
    "        #translate double quotes back from BigQuery\n",
    "        text = re.sub(r'xxxdblqte', '\\\"', text)\n",
    "        return normalize_whitespace(text)\n",
    "    \n",
    "    @staticmethod\n",
    "    def sym(text:str) -> str:\n",
    "        \"\"\"generalize symbols such as urls, emails, phone numbers and filepaths to generic tokens.\"\"\"\n",
    "        text = preprocess_text(text, \n",
    "                               fix_unicode=True, \n",
    "                               no_urls=True, \n",
    "                               no_emails=True, \n",
    "                               no_phone_numbers=True,\n",
    "                               no_accents=True)\n",
    "        \n",
    "        file_path_regex = r'C:(\\\\\\\\\\S+){2,}|(/\\S+){2,}'\n",
    "        return re.sub(file_path_regex, ' xxxfilepath ', text)\n",
    "            \n",
    "    ### transformations that are the same from factory functions\n",
    "    # large headers: h1\n",
    "    hL =   partial(prepend.__func__, 'xxxhl', 'h1')\n",
    "    # medium headers: h2, h3\n",
    "    hM =   partial(prepend.__func__, 'xxxhm', ['h2', 'h3'])\n",
    "    # small headers: h4, h5, h6\n",
    "    hS =   partial(prepend.__func__, 'xxxhs', ['h4', 'h5', 'h6'])\n",
    "    # code blocks\n",
    "    code = partial(enclose.__func__, 'xxxcdb', 'xxxcde', 'code', 2)\n",
    "    # paragraph blocks (plain text)\n",
    "    txt =  partial(prepend.__func__, 'xxxtxt', 'p')\n",
    "    # block quotes\n",
    "    bqt =  partial(enclose.__func__, 'xxxqb', 'xxxqe', 'blockquote', 3)\n",
    "    # strikethrough\n",
    "    st =   partial(enclose.__func__, 'xxxdelb', 'xxxdele', 'del', 1)\n",
    "    # horizontal rule\n",
    "    hr =   partial(prepend.__func__, 'xxxhr', 'hr')\n",
    "    \n",
    "\n",
    "transform_funcs = [md.parse, md.hL, md.hM, md.hS, md.lst, md.bqt, \n",
    "                   md.code, md.tbl, md.st, md.txt, md.lnk, md.img, \n",
    "                   md.hr, md.get_text, md.sym]"
   ]
  },
  {
   "cell_type": "markdown",
   "metadata": {},
   "source": [
    "apply all of the cleanup functions in `transform_funcs` in order."
   ]
  },
  {
   "cell_type": "markdown",
   "metadata": {},
   "source": [
    "## Display Cleaned Text"
   ]
  },
  {
   "cell_type": "code",
   "execution_count": 120,
   "metadata": {},
   "outputs": [
    {
     "name": "stdout",
     "output_type": "stream",
     "text": [
      "xxxhl This is a test markdown that has different types of formatting\n",
      "xxxhm Header 2\n",
      "xxxtxt Hello world this is going to be a long sentence that. also has a newline:\n",
      " lala lala\n",
      "xxxtxt continuing the sentence here.\n",
      "more text.\n",
      "xxxlistB bullet 1\n",
      "bullet 2\n",
      "xxxlistE\n",
      "xxxtxt \"quoted text\"\n",
      "xxxhs a small header\n",
      "xxxcdb lang-python def something(x):\n",
      " \"\"\"docstring\"\"\"\n",
      " return False\n",
      "xxxcde\n",
      "xxxtxt @mention somebody\n",
      "xxxqb blockquote text is here!\n",
      "xxxqe\n",
      "xxxtxt [hobbit-hole][1]\n",
      "xxxlistB first\n",
      "second\n",
      "xxxlistE\n",
      "xxxqb what this?\n",
      "xxxqe\n",
      "xxximg Tux, the Linux mascot xxximgf png\n",
      "xxxtxt [1]: xxxhtml\"Hobbit lifestyles\"\n",
      "xxtbl First Header|Second Header\n",
      "xxxhr xxxtxt Hello xxxcdb something xxxcde here and stuff is there. google xxxlnkhb *URL* xxxlnkhe. random text\n",
      "xxxtxt xxxdelb The world is flat. xxxdele We now know that the world is round.\n",
      "xxxlistB [x] Write the press release\n",
      "[ ] Update the website\n",
      "[ ] Contact the media\n",
      "xxxlistE\n",
      "xxxtxt xxxcdb *URL* xxxcde\n"
     ]
    }
   ],
   "source": [
    "res = compose(transform_funcs)(mdtext)\n",
    "print(res)"
   ]
  },
  {
   "cell_type": "markdown",
   "metadata": {},
   "source": [
    "# Test on Real Issues"
   ]
  },
  {
   "cell_type": "markdown",
   "metadata": {},
   "source": [
    "#### Download Sample File"
   ]
  },
  {
   "cell_type": "code",
   "execution_count": 125,
   "metadata": {},
   "outputs": [],
   "source": [
    "import pandas as pd\n",
    "import codecs\n",
    "pd.set_option('max_colwidth', 3000)\n",
    "\n",
    "df = pd.concat([pd.read_csv(f'https://storage.googleapis.com/issue_label_bot/language_model_data/00000000000{i}.csv.gz' \n",
    "               )\n",
    "                for i in range(1)])\n",
    "\n",
    "df['clean_body'] = ''"
   ]
  },
  {
   "cell_type": "markdown",
   "metadata": {},
   "source": [
    "#### Display Dataframe With Cleaned Issue Bodies see `cleaned_body` field"
   ]
  },
  {
   "cell_type": "code",
   "execution_count": 123,
   "metadata": {
    "scrolled": false
   },
   "outputs": [
    {
     "data": {
      "application/vnd.jupyter.widget-view+json": {
       "model_id": "eb83000ed5f74b8fbc1fd9aefca91822",
       "version_major": 2,
       "version_minor": 0
      },
      "text/plain": [
       "HBox(children=(IntProgress(value=0, max=20), HTML(value='')))"
      ]
     },
     "metadata": {},
     "output_type": "display_data"
    },
    {
     "name": "stdout",
     "output_type": "stream",
     "text": [
      "\n"
     ]
    },
    {
     "data": {
      "text/html": [
       "<div>\n",
       "<style scoped>\n",
       "    .dataframe tbody tr th:only-of-type {\n",
       "        vertical-align: middle;\n",
       "    }\n",
       "\n",
       "    .dataframe tbody tr th {\n",
       "        vertical-align: top;\n",
       "    }\n",
       "\n",
       "    .dataframe thead th {\n",
       "        text-align: right;\n",
       "    }\n",
       "</style>\n",
       "<table border=\"1\" class=\"dataframe\">\n",
       "  <thead>\n",
       "    <tr style=\"text-align: right;\">\n",
       "      <th></th>\n",
       "      <th>url</th>\n",
       "      <th>body</th>\n",
       "      <th>clean_body</th>\n",
       "    </tr>\n",
       "  </thead>\n",
       "  <tbody>\n",
       "    <tr>\n",
       "      <th>121568</th>\n",
       "      <td>https://github.com/flutter/flutter/issues/7626</td>\n",
       "      <td>Tickers return Futures.xxxlnbrkIt's possible for the following sequence of events to happen:xxxlnbrk - a transient callback for a ticker results in that ticker's future completingxxxlnbrk - during build, we tear down the worldxxxlnbrk - after the frame, the ticker's future's callbacks get called, expecting the world to still be aroundxxxlnbrkThis leads to people writing pretty-looking code tha...</td>\n",
       "      <td>xxxtxt Tickers return Futures.\\nIt's possible for the following sequence of events to happen:\\nxxxlistB a transient callback for a ticker results in that ticker's future completing\\nduring build, we tear down the world\\nafter the frame, the ticker's future's callbacks get called, expecting the world to still be around\\nThis leads to people writing pretty-looking code that just doesn't work in ...</td>\n",
       "    </tr>\n",
       "    <tr>\n",
       "      <th>15410</th>\n",
       "      <td>https://github.com/spring-cloud/spring-cloud-contract/issues/1045</td>\n",
       "      <td>## Summary of problemxxxlnbrkIn consumer, contracts placed on a classpath are not found if `StubsMode.CLASSPATH` is used together with JUnit 4's `StubRunnerRule`. Everything works fine with `AutoConfigureStubRunner` when the same parameters are used.xxxlnbrkThe immediate reason of that behavior is provided later on in this report. xxxlnbrk## Steps to reproducexxxlnbrk1. Put a generated xxxdblq...</td>\n",
       "      <td>xxxhm Summary of problem\\nxxxtxt In consumer, contracts placed on a classpath are not found if xxxcdb StubsMode.CLASSPATH xxxcde is used together with JUnit 4's xxxcdb StubRunnerRule xxxcde. Everything works fine with xxxcdb AutoConfigureStubRunner xxxcde when the same parameters are used.\\nThe immediate reason of that behavior is provided later on in this report.\\nxxxhm Steps to reproduce\\nxx...</td>\n",
       "    </tr>\n",
       "    <tr>\n",
       "      <th>175946</th>\n",
       "      <td>https://github.com/jpsim/SourceKitten/issues/559</td>\n",
       "      <td>We have a server-side project (using SPM) and have a script to generate documentation for it. However, when trying to migrate to Swift 4.2 (from 4.1.2), we noticed that in our docker container on CI, the documentation couldn't be generated anymore for one of the modules (the other modules in our project worked fine). Basically, what happened was that the documentation generation started becomi...</td>\n",
       "      <td>xxxtxt We have a server-side project (using SPM) and have a script to generate documentation for it. However, when trying to migrate to Swift 4.2 (from 4.1.2), we noticed that in our docker container on CI, the documentation couldn't be generated anymore for one of the modules (the other modules in our project worked fine). Basically, what happened was that the documentation generation started...</td>\n",
       "    </tr>\n",
       "    <tr>\n",
       "      <th>163408</th>\n",
       "      <td>https://github.com/nuxsmin/docker-syspass/issues/3</td>\n",
       "      <td>have installed syspass via `docker compose`, but there is not 2fa available in the preferences panel for a user. The live demo shows this, and I have reinstalled several times to ensure I was not missing a configuration step.</td>\n",
       "      <td>xxxtxt have installed syspass via xxxcdb docker compose xxxcde, but there is not 2fa available in the preferences panel for a user. The live demo shows this, and I have reinstalled several times to ensure I was not missing a configuration step.</td>\n",
       "    </tr>\n",
       "    <tr>\n",
       "      <th>82431</th>\n",
       "      <td>https://github.com/reek/anti-adblock-killer/issues/1739</td>\n",
       "      <td>@reek xxxlnbrkCan you add the following to block ads on respective sitexxxlnbrkndtv.com  `@@||ndtv.com^*/taboola*/*/*`xxxlnbrkvodlocker   `@@||mgid.com^$script,domain=vodlocker.com`</td>\n",
       "      <td>xxxtxt @reek Can you add the following to block ads on respective site\\nndtv.com xxxcdb @@||ndtv.com^* xxxfilepath  xxxcde\\nvodlocker xxxcdb @@||mgid.com^$script,domain=vodlocker.com xxxcde</td>\n",
       "    </tr>\n",
       "    <tr>\n",
       "      <th>173079</th>\n",
       "      <td>https://github.com/sensebox/openSenseMap/issues/179</td>\n",
       "      <td>Add a save as .PNG function to the plots. At the moment the online possibility is to take a screenshot.</td>\n",
       "      <td>xxxtxt Add a save as .PNG function to the plots. At the moment the online possibility is to take a screenshot.</td>\n",
       "    </tr>\n",
       "    <tr>\n",
       "      <th>179829</th>\n",
       "      <td>https://github.com/osxfuse/osxfuse/issues/281</td>\n",
       "      <td>Hi, xxxlnbrkI connect to a linux fileserver with approx. 65 TB of free space. I am connecting to the fileserver using sshfs and osxfuse, Instead of seeing the 65 TB, I see only 10GB of free space. Finder uses the wrong amount to calculate if I can move files to the fileserver or not. xxxlnbrkThe problem is not the Mac or finder because using scp I can transfer the files. xxxlnbrkCheers Alexander</td>\n",
       "      <td>xxxtxt Hi, I connect to a linux fileserver with approx. 65 TB of free space. I am connecting to the fileserver using sshfs and osxfuse, Instead of seeing the 65 TB, I see only 10GB of free space. Finder uses the wrong amount to calculate if I can move files to the fileserver or not. The problem is not the Mac or finder because using scp I can transfer the files. Cheers Alexander</td>\n",
       "    </tr>\n",
       "    <tr>\n",
       "      <th>93290</th>\n",
       "      <td>https://github.com/keras-team/keras/issues/10190</td>\n",
       "      <td>Please make sure that the boxes below are checked before you submit your issue. If your issue is an implementation question, please ask your question on [StackOverflow](http://stackoverflow.com/questions/tagged/keras) or [join the Keras Slack channel](https://keras-slack-autojoin.herokuapp.com/) and ask there instead of filing a GitHub issue.xxxlnbrkThank you!xxxlnbrk- [ ] Check that you are u...</td>\n",
       "      <td>xxxtxt Please make sure that the boxes below are checked before you submit your issue. If your issue is an implementation question, please ask your question on StackOverflow xxxlnkhb stackoverflow.com xxxlnkhe or join the Keras Slack channel xxxlnkhb keras-slack-autojoin.herokuapp.com xxxlnkhe and ask there instead of filing a GitHub issue.\\nThank you!\\nxxxlistB [ ] Check that you are up-to-da...</td>\n",
       "    </tr>\n",
       "    <tr>\n",
       "      <th>148781</th>\n",
       "      <td>https://github.com/beautifularea/tOpenSSL/issues/8</td>\n",
       "      <td>HTTP/1.1 426 Upgrade Requiredxxxlnbrk       Upgrade: TLS/1.0, HTTP/1.1xxxlnbrk       Connection: Upgradexxxlnbrk</td>\n",
       "      <td>xxxcdb HTTP/1.1 426 Upgrade Required\\n Upgrade: TLS/1.0, HTTP/1.1\\n Connection: Upgrade\\nxxxcde</td>\n",
       "    </tr>\n",
       "    <tr>\n",
       "      <th>161180</th>\n",
       "      <td>https://github.com/IFSight/d4m-nfs/issues/11</td>\n",
       "      <td>I started using d4m-nfs, but my scripts changing file ownership cannot run. I get:xxxlnbrkchown: changing ownership of 'filename_here': Operation not permittedxxxlnbrkHow can I solve that?</td>\n",
       "      <td>xxxtxt I started using d4m-nfs, but my scripts changing file ownership cannot run. I get:\\nchown: changing ownership of 'filename_here': Operation not permitted\\nHow can I solve that?</td>\n",
       "    </tr>\n",
       "    <tr>\n",
       "      <th>158162</th>\n",
       "      <td>https://github.com/telefonicaid/netphony-pce/issues/14</td>\n",
       "      <td>When the end points are generalized endpoints, but not IPv4, the following expection appears:xxxlnbrk11:10:07.091 [Thread-6] INFO  PCEServer - EP.getOT()==ObjectParameters.PCEP_OBJECT_TYPE_GENERALIZED_ENDPOINTSxxxlnbrk11:10:07.159 [Thread-6] WARN  PCEServer - Computation failed: java.lang.NullPointerException || java.util.concurrent.ExecutionException: java.lang.NullPointerExceptionxxxlnbrk   ...</td>\n",
       "      <td>xxxtxt When the end points are generalized endpoints, but not IPv4, the following expection appears:\\n11:10:07.091 [Thread-6] INFO PCEServer - EP.getOT()==ObjectParameters.PCEP_OBJECT_TYPE_GENERALIZED_ENDPOINTS\\n11:10:07.159 [Thread-6] WARN PCEServer - Computation failed: java.lang.NullPointerException || java.util.concurrent.ExecutionException: java.lang.NullPointerException\\n at java.util.co...</td>\n",
       "    </tr>\n",
       "    <tr>\n",
       "      <th>19254</th>\n",
       "      <td>https://github.com/FAC-11/JAAM/issues/2</td>\n",
       "      <td>so I can quickly navigate to the areas of the site I'd like to visit.</td>\n",
       "      <td>xxxtxt so I can quickly navigate to the areas of the site I'd like to visit.</td>\n",
       "    </tr>\n",
       "    <tr>\n",
       "      <th>199</th>\n",
       "      <td>https://github.com/Arcnor/crystal-raw-sdl2/issues/1</td>\n",
       "      <td>```xxxlnbrkError in ./libs/libsdl2/libsdl2.cr:1343: undefined constant LibC::Filexxxlnbrk fun rw_from_fp = SDL_RWFromFP(fp : LibC::File, autoclose : Bool) : RWops*xxxlnbrk                                    ^~~~~~~~~~xxxlnbrk```xxxlnbrkAlso, according to the [SDL2 docs](https://wiki.libsdl.org/SDL_RWFromFP), `SDL_RWFromFP` takes a `void*`, not `FILE*`.</td>\n",
       "      <td>xxxcdb Error in . xxxfilepath  undefined constant LibC::File\\n fun rw_from_fp = SDL_RWFromFP(fp : LibC::File, autoclose : Bool) : RWops*\\n ^~~~~~~~~~\\nxxxcde\\nxxxtxt Also, according to the SDL2 docs xxxlnkhb wiki.libsdl.org xxxlnkhe, xxxcdb SDL_RWFromFP xxxcde takes a xxxcdb void* xxxcde, not xxxcdb FILE* xxxcde.</td>\n",
       "    </tr>\n",
       "    <tr>\n",
       "      <th>50884</th>\n",
       "      <td>https://github.com/pylhc/omc3/issues/1</td>\n",
       "      <td>- [x] simplify tfs_file_writer and make it work with python 3xxxlnbrk- [x] write testsxxxlnbrk- [x] adapt tfs_pandasxxxlnbrk</td>\n",
       "      <td>xxxlistB [x] simplify tfs_file_writer and make it work with python 3\\n[x] write tests\\n[x] adapt tfs_pandas\\nxxxlistE</td>\n",
       "    </tr>\n",
       "    <tr>\n",
       "      <th>176410</th>\n",
       "      <td>https://github.com/LaserWeb/LaserWeb4/issues/138</td>\n",
       "      <td>**Problem description:** Floating controls input box values fail to update after selection of Document other than first Document in list.xxxlnbrk**Chrome versions:**  55.0.2883.87 and 56.0.2924.87xxxlnbrk**Platform:** Windows 7 x64xxxlnbrkTested on 1280x014 and 1900x1200 screen resolutions.xxxlnbrkDocument type tested: DXFxxxlnbrk**To reproduce this problem:**xxxlnbrk1. Click Add Document, and...</td>\n",
       "      <td>xxxtxt Problem description: Floating controls input box values fail to update after selection of Document other than first Document in list.\\nChrome versions: 55.0.2883.87 and 56.0.2924.87\\nPlatform: Windows 7 x64\\nTested on 1280x014 and 1900x1200 screen resolutions.\\nDocument type tested: DXF\\nTo reproduce this problem:\\nxxxlistB Click Add Document, and add a DXF document\\nAdjust drop-in coor...</td>\n",
       "    </tr>\n",
       "    <tr>\n",
       "      <th>148733</th>\n",
       "      <td>https://github.com/ezhao7/AudiologyNLP/issues/12</td>\n",
       "      <td>&lt;!--- Provide a general summary of the issue in the Title above --&gt;xxxlnbrk## Expected Behaviorxxxlnbrk&lt;!--- If you're describing a bug, tell us what should happen --&gt;xxxlnbrk&lt;!--- If you're suggesting a change/improvement, tell us how it should work --&gt;xxxlnbrkWhen scanning a file through, the program should analyze the document using machine learning techniques and then return an analyzed re...</td>\n",
       "      <td>xxxhm Expected Behavior\\nxxxtxt When scanning a file through, the program should analyze the document using machine learning techniques and then return an analyzed report based upon key features.\\nxxxhm Possible Solution\\nxxxtxt Handle OCR analysis (currently Tesseract) to determine what key features affect the outcome of the report.</td>\n",
       "    </tr>\n",
       "    <tr>\n",
       "      <th>85631</th>\n",
       "      <td>https://github.com/mono/CppSharp/issues/704</td>\n",
       "      <td>##### Brief DescriptionxxxlnbrkI was following the guide here: https://github.com/mono/CppSharp/blob/master/docs/BuildingLLVM.md  to build CppSharp on my Linux machine.  I was at the last step where I was told to run `ninja`.xxxlnbrkWhen running that step, I noticed my machine's RAM was being almost completely used up (20 GB), until all of it was.  Then my system froze and I had to restart it....</td>\n",
       "      <td>xxxhs Brief Description\\nxxxtxt I was following the guide here: *URL* xxxlnkhb github.com xxxlnkhe to build CppSharp on my Linux machine. I was at the last step where I was told to run xxxcdb ninja xxxcde.\\nWhen running that step, I noticed my machine's RAM was being almost completely used up (20 GB), until all of it was. Then my system froze and I had to restart it. It was at step xxxcdb [178...</td>\n",
       "    </tr>\n",
       "    <tr>\n",
       "      <th>30552</th>\n",
       "      <td>https://github.com/DigitalWPI/digitalwpi/issues/131</td>\n",
       "      <td>finish up in ability.rbxxxlnbrkmight add call to ability funcs here: https://github.com/samvera/hyrax/blob/5a9d1be16ee1a9150646384471992b03aab527a5/app/models/concerns/hyrax/collection_behavior.rbxxxlnbrkchange views: https://github.com/samvera/hyrax/tree/5a9d1be16ee1a9150646384471992b03aab527a5/app/views/hyrax/my/collections</td>\n",
       "      <td>xxxtxt finish up in ability.rb\\nmight add call to ability funcs here: *URL* xxxlnkhb github.com xxxlnkhe\\nchange views: *URL* xxxlnkhb github.com xxxlnkhe</td>\n",
       "    </tr>\n",
       "    <tr>\n",
       "      <th>125263</th>\n",
       "      <td>https://github.com/heptio/ark/issues/614</td>\n",
       "      <td>When restoring, Ark adds an `ark-restore` label to all resources, where the value is the name of the restore.xxxlnbrkWe should change the key from `ark-restore` to a namespaced one such as `ark.heptio.com/restore-name`. To preserve compatibility from now to 1.0, we can continue to set `ark-restore`, but we should switch to using only the namespaced key for 1.0.xxxlnbrkWe could/should also cons...</td>\n",
       "      <td>xxxtxt When restoring, Ark adds an xxxcdb ark-restore xxxcde label to all resources, where the value is the name of the restore.\\nWe should change the key from xxxcdb ark-restore xxxcde to a namespaced one such as xxxcdb *URL* xxxcde. To preserve compatibility from now to 1.0, we can continue to set xxxcdb ark-restore xxxcde, but we should switch to using only the namespaced key for 1.0.\\nWe c...</td>\n",
       "    </tr>\n",
       "    <tr>\n",
       "      <th>7766</th>\n",
       "      <td>https://github.com/opencobra/memote/issues/205</td>\n",
       "      <td>Currently, some error messages can become quite long. Probably it's fair to shorten them for the command line and have the full output in the report.</td>\n",
       "      <td>xxxtxt Currently, some error messages can become quite long. Probably it's fair to shorten them for the command line and have the full output in the report.</td>\n",
       "    </tr>\n",
       "  </tbody>\n",
       "</table>\n",
       "</div>"
      ],
      "text/plain": [
       "                                                                      url  \\\n",
       "121568                     https://github.com/flutter/flutter/issues/7626   \n",
       "15410   https://github.com/spring-cloud/spring-cloud-contract/issues/1045   \n",
       "175946                   https://github.com/jpsim/SourceKitten/issues/559   \n",
       "163408                 https://github.com/nuxsmin/docker-syspass/issues/3   \n",
       "82431             https://github.com/reek/anti-adblock-killer/issues/1739   \n",
       "173079                https://github.com/sensebox/openSenseMap/issues/179   \n",
       "179829                      https://github.com/osxfuse/osxfuse/issues/281   \n",
       "93290                    https://github.com/keras-team/keras/issues/10190   \n",
       "148781                 https://github.com/beautifularea/tOpenSSL/issues/8   \n",
       "161180                       https://github.com/IFSight/d4m-nfs/issues/11   \n",
       "158162             https://github.com/telefonicaid/netphony-pce/issues/14   \n",
       "19254                             https://github.com/FAC-11/JAAM/issues/2   \n",
       "199                   https://github.com/Arcnor/crystal-raw-sdl2/issues/1   \n",
       "50884                              https://github.com/pylhc/omc3/issues/1   \n",
       "176410                   https://github.com/LaserWeb/LaserWeb4/issues/138   \n",
       "148733                   https://github.com/ezhao7/AudiologyNLP/issues/12   \n",
       "85631                         https://github.com/mono/CppSharp/issues/704   \n",
       "30552                 https://github.com/DigitalWPI/digitalwpi/issues/131   \n",
       "125263                           https://github.com/heptio/ark/issues/614   \n",
       "7766                       https://github.com/opencobra/memote/issues/205   \n",
       "\n",
       "                                                                                                                                                                                                                                                                                                                                                                                                                   body  \\\n",
       "121568  Tickers return Futures.xxxlnbrkIt's possible for the following sequence of events to happen:xxxlnbrk - a transient callback for a ticker results in that ticker's future completingxxxlnbrk - during build, we tear down the worldxxxlnbrk - after the frame, the ticker's future's callbacks get called, expecting the world to still be aroundxxxlnbrkThis leads to people writing pretty-looking code tha...   \n",
       "15410   ## Summary of problemxxxlnbrkIn consumer, contracts placed on a classpath are not found if `StubsMode.CLASSPATH` is used together with JUnit 4's `StubRunnerRule`. Everything works fine with `AutoConfigureStubRunner` when the same parameters are used.xxxlnbrkThe immediate reason of that behavior is provided later on in this report. xxxlnbrk## Steps to reproducexxxlnbrk1. Put a generated xxxdblq...   \n",
       "175946  We have a server-side project (using SPM) and have a script to generate documentation for it. However, when trying to migrate to Swift 4.2 (from 4.1.2), we noticed that in our docker container on CI, the documentation couldn't be generated anymore for one of the modules (the other modules in our project worked fine). Basically, what happened was that the documentation generation started becomi...   \n",
       "163408                                                                                                                                                                                have installed syspass via `docker compose`, but there is not 2fa available in the preferences panel for a user. The live demo shows this, and I have reinstalled several times to ensure I was not missing a configuration step.   \n",
       "82431                                                                                                                                                                                                                             @reek xxxlnbrkCan you add the following to block ads on respective sitexxxlnbrkndtv.com  `@@||ndtv.com^*/taboola*/*/*`xxxlnbrkvodlocker   `@@||mgid.com^$script,domain=vodlocker.com`   \n",
       "173079                                                                                                                                                                                                                                                                                                          Add a save as .PNG function to the plots. At the moment the online possibility is to take a screenshot.   \n",
       "179829   Hi, xxxlnbrkI connect to a linux fileserver with approx. 65 TB of free space. I am connecting to the fileserver using sshfs and osxfuse, Instead of seeing the 65 TB, I see only 10GB of free space. Finder uses the wrong amount to calculate if I can move files to the fileserver or not. xxxlnbrkThe problem is not the Mac or finder because using scp I can transfer the files. xxxlnbrkCheers Alexander   \n",
       "93290   Please make sure that the boxes below are checked before you submit your issue. If your issue is an implementation question, please ask your question on [StackOverflow](http://stackoverflow.com/questions/tagged/keras) or [join the Keras Slack channel](https://keras-slack-autojoin.herokuapp.com/) and ask there instead of filing a GitHub issue.xxxlnbrkThank you!xxxlnbrk- [ ] Check that you are u...   \n",
       "148781                                                                                                                                                                                                                                                                                                 HTTP/1.1 426 Upgrade Requiredxxxlnbrk       Upgrade: TLS/1.0, HTTP/1.1xxxlnbrk       Connection: Upgradexxxlnbrk   \n",
       "161180                                                                                                                                                                                                                     I started using d4m-nfs, but my scripts changing file ownership cannot run. I get:xxxlnbrkchown: changing ownership of 'filename_here': Operation not permittedxxxlnbrkHow can I solve that?   \n",
       "158162  When the end points are generalized endpoints, but not IPv4, the following expection appears:xxxlnbrk11:10:07.091 [Thread-6] INFO  PCEServer - EP.getOT()==ObjectParameters.PCEP_OBJECT_TYPE_GENERALIZED_ENDPOINTSxxxlnbrk11:10:07.159 [Thread-6] WARN  PCEServer - Computation failed: java.lang.NullPointerException || java.util.concurrent.ExecutionException: java.lang.NullPointerExceptionxxxlnbrk   ...   \n",
       "19254                                                                                                                                                                                                                                                                                                                                             so I can quickly navigate to the areas of the site I'd like to visit.   \n",
       "199                                                  ```xxxlnbrkError in ./libs/libsdl2/libsdl2.cr:1343: undefined constant LibC::Filexxxlnbrk fun rw_from_fp = SDL_RWFromFP(fp : LibC::File, autoclose : Bool) : RWops*xxxlnbrk                                    ^~~~~~~~~~xxxlnbrk```xxxlnbrkAlso, according to the [SDL2 docs](https://wiki.libsdl.org/SDL_RWFromFP), `SDL_RWFromFP` takes a `void*`, not `FILE*`.   \n",
       "50884                                                                                                                                                                                                                                                                                      - [x] simplify tfs_file_writer and make it work with python 3xxxlnbrk- [x] write testsxxxlnbrk- [x] adapt tfs_pandasxxxlnbrk   \n",
       "176410  **Problem description:** Floating controls input box values fail to update after selection of Document other than first Document in list.xxxlnbrk**Chrome versions:**  55.0.2883.87 and 56.0.2924.87xxxlnbrk**Platform:** Windows 7 x64xxxlnbrkTested on 1280x014 and 1900x1200 screen resolutions.xxxlnbrkDocument type tested: DXFxxxlnbrk**To reproduce this problem:**xxxlnbrk1. Click Add Document, and...   \n",
       "148733  <!--- Provide a general summary of the issue in the Title above -->xxxlnbrk## Expected Behaviorxxxlnbrk<!--- If you're describing a bug, tell us what should happen -->xxxlnbrk<!--- If you're suggesting a change/improvement, tell us how it should work -->xxxlnbrkWhen scanning a file through, the program should analyze the document using machine learning techniques and then return an analyzed re...   \n",
       "85631   ##### Brief DescriptionxxxlnbrkI was following the guide here: https://github.com/mono/CppSharp/blob/master/docs/BuildingLLVM.md  to build CppSharp on my Linux machine.  I was at the last step where I was told to run `ninja`.xxxlnbrkWhen running that step, I noticed my machine's RAM was being almost completely used up (20 GB), until all of it was.  Then my system froze and I had to restart it....   \n",
       "30552                                                                           finish up in ability.rbxxxlnbrkmight add call to ability funcs here: https://github.com/samvera/hyrax/blob/5a9d1be16ee1a9150646384471992b03aab527a5/app/models/concerns/hyrax/collection_behavior.rbxxxlnbrkchange views: https://github.com/samvera/hyrax/tree/5a9d1be16ee1a9150646384471992b03aab527a5/app/views/hyrax/my/collections   \n",
       "125263  When restoring, Ark adds an `ark-restore` label to all resources, where the value is the name of the restore.xxxlnbrkWe should change the key from `ark-restore` to a namespaced one such as `ark.heptio.com/restore-name`. To preserve compatibility from now to 1.0, we can continue to set `ark-restore`, but we should switch to using only the namespaced key for 1.0.xxxlnbrkWe could/should also cons...   \n",
       "7766                                                                                                                                                                                                                                                              Currently, some error messages can become quite long. Probably it's fair to shorten them for the command line and have the full output in the report.   \n",
       "\n",
       "                                                                                                                                                                                                                                                                                                                                                                                                             clean_body  \n",
       "121568  xxxtxt Tickers return Futures.\\nIt's possible for the following sequence of events to happen:\\nxxxlistB a transient callback for a ticker results in that ticker's future completing\\nduring build, we tear down the world\\nafter the frame, the ticker's future's callbacks get called, expecting the world to still be around\\nThis leads to people writing pretty-looking code that just doesn't work in ...  \n",
       "15410   xxxhm Summary of problem\\nxxxtxt In consumer, contracts placed on a classpath are not found if xxxcdb StubsMode.CLASSPATH xxxcde is used together with JUnit 4's xxxcdb StubRunnerRule xxxcde. Everything works fine with xxxcdb AutoConfigureStubRunner xxxcde when the same parameters are used.\\nThe immediate reason of that behavior is provided later on in this report.\\nxxxhm Steps to reproduce\\nxx...  \n",
       "175946  xxxtxt We have a server-side project (using SPM) and have a script to generate documentation for it. However, when trying to migrate to Swift 4.2 (from 4.1.2), we noticed that in our docker container on CI, the documentation couldn't be generated anymore for one of the modules (the other modules in our project worked fine). Basically, what happened was that the documentation generation started...  \n",
       "163408                                                                                                                                                             xxxtxt have installed syspass via xxxcdb docker compose xxxcde, but there is not 2fa available in the preferences panel for a user. The live demo shows this, and I have reinstalled several times to ensure I was not missing a configuration step.  \n",
       "82431                                                                                                                                                                                                                     xxxtxt @reek Can you add the following to block ads on respective site\\nndtv.com xxxcdb @@||ndtv.com^* xxxfilepath  xxxcde\\nvodlocker xxxcdb @@||mgid.com^$script,domain=vodlocker.com xxxcde  \n",
       "173079                                                                                                                                                                                                                                                                                                   xxxtxt Add a save as .PNG function to the plots. At the moment the online possibility is to take a screenshot.  \n",
       "179829                    xxxtxt Hi, I connect to a linux fileserver with approx. 65 TB of free space. I am connecting to the fileserver using sshfs and osxfuse, Instead of seeing the 65 TB, I see only 10GB of free space. Finder uses the wrong amount to calculate if I can move files to the fileserver or not. The problem is not the Mac or finder because using scp I can transfer the files. Cheers Alexander  \n",
       "93290   xxxtxt Please make sure that the boxes below are checked before you submit your issue. If your issue is an implementation question, please ask your question on StackOverflow xxxlnkhb stackoverflow.com xxxlnkhe or join the Keras Slack channel xxxlnkhb keras-slack-autojoin.herokuapp.com xxxlnkhe and ask there instead of filing a GitHub issue.\\nThank you!\\nxxxlistB [ ] Check that you are up-to-da...  \n",
       "148781                                                                                                                                                                                                                                                                                                                  xxxcdb HTTP/1.1 426 Upgrade Required\\n Upgrade: TLS/1.0, HTTP/1.1\\n Connection: Upgrade\\nxxxcde  \n",
       "161180                                                                                                                                                                                                                          xxxtxt I started using d4m-nfs, but my scripts changing file ownership cannot run. I get:\\nchown: changing ownership of 'filename_here': Operation not permitted\\nHow can I solve that?  \n",
       "158162  xxxtxt When the end points are generalized endpoints, but not IPv4, the following expection appears:\\n11:10:07.091 [Thread-6] INFO PCEServer - EP.getOT()==ObjectParameters.PCEP_OBJECT_TYPE_GENERALIZED_ENDPOINTS\\n11:10:07.159 [Thread-6] WARN PCEServer - Computation failed: java.lang.NullPointerException || java.util.concurrent.ExecutionException: java.lang.NullPointerException\\n at java.util.co...  \n",
       "19254                                                                                                                                                                                                                                                                                                                                      xxxtxt so I can quickly navigate to the areas of the site I'd like to visit.  \n",
       "199                                                                                          xxxcdb Error in . xxxfilepath  undefined constant LibC::File\\n fun rw_from_fp = SDL_RWFromFP(fp : LibC::File, autoclose : Bool) : RWops*\\n ^~~~~~~~~~\\nxxxcde\\nxxxtxt Also, according to the SDL2 docs xxxlnkhb wiki.libsdl.org xxxlnkhe, xxxcdb SDL_RWFromFP xxxcde takes a xxxcdb void* xxxcde, not xxxcdb FILE* xxxcde.  \n",
       "50884                                                                                                                                                                                                                                                                                             xxxlistB [x] simplify tfs_file_writer and make it work with python 3\\n[x] write tests\\n[x] adapt tfs_pandas\\nxxxlistE  \n",
       "176410  xxxtxt Problem description: Floating controls input box values fail to update after selection of Document other than first Document in list.\\nChrome versions: 55.0.2883.87 and 56.0.2924.87\\nPlatform: Windows 7 x64\\nTested on 1280x014 and 1900x1200 screen resolutions.\\nDocument type tested: DXF\\nTo reproduce this problem:\\nxxxlistB Click Add Document, and add a DXF document\\nAdjust drop-in coor...  \n",
       "148733                                                                  xxxhm Expected Behavior\\nxxxtxt When scanning a file through, the program should analyze the document using machine learning techniques and then return an analyzed report based upon key features.\\nxxxhm Possible Solution\\nxxxtxt Handle OCR analysis (currently Tesseract) to determine what key features affect the outcome of the report.  \n",
       "85631   xxxhs Brief Description\\nxxxtxt I was following the guide here: *URL* xxxlnkhb github.com xxxlnkhe to build CppSharp on my Linux machine. I was at the last step where I was told to run xxxcdb ninja xxxcde.\\nWhen running that step, I noticed my machine's RAM was being almost completely used up (20 GB), until all of it was. Then my system froze and I had to restart it. It was at step xxxcdb [178...  \n",
       "30552                                                                                                                                                                                                                                                        xxxtxt finish up in ability.rb\\nmight add call to ability funcs here: *URL* xxxlnkhb github.com xxxlnkhe\\nchange views: *URL* xxxlnkhb github.com xxxlnkhe  \n",
       "125263  xxxtxt When restoring, Ark adds an xxxcdb ark-restore xxxcde label to all resources, where the value is the name of the restore.\\nWe should change the key from xxxcdb ark-restore xxxcde to a namespaced one such as xxxcdb *URL* xxxcde. To preserve compatibility from now to 1.0, we can continue to set xxxcdb ark-restore xxxcde, but we should switch to using only the namespaced key for 1.0.\\nWe c...  \n",
       "7766                                                                                                                                                                                                                                                       xxxtxt Currently, some error messages can become quite long. Probably it's fair to shorten them for the command line and have the full output in the report.  "
      ]
     },
     "execution_count": 123,
     "metadata": {},
     "output_type": "execute_result"
    }
   ],
   "source": [
    "sdf = df.sample(20)\n",
    "\n",
    "for i, b in tqdm_notebook(enumerate(sdf.body), total=len(sdf)):\n",
    "    try:\n",
    "        sdf['clean_body'].iloc[i] = compose(transform_funcs)(b)\n",
    "    except:\n",
    "        print(f'error at: {i}')\n",
    "        break\n",
    "\n",
    "sdf[['url', 'body', 'clean_body']]"
   ]
  },
  {
   "cell_type": "markdown",
   "metadata": {},
   "source": [
    "### Playground To Inspect And Troubleshoot"
   ]
  },
  {
   "cell_type": "markdown",
   "metadata": {},
   "source": [
    "Change `idx` value corresponding to dataframe above"
   ]
  },
  {
   "cell_type": "code",
   "execution_count": null,
   "metadata": {},
   "outputs": [],
   "source": [
    "idx = 29950"
   ]
  },
  {
   "cell_type": "code",
   "execution_count": 119,
   "metadata": {
    "scrolled": false
   },
   "outputs": [
    {
     "name": "stdout",
     "output_type": "stream",
     "text": [
      "xxxcdb 22:12:18 test_fs (__main__.TestMultiprocessing) ... =================================================================\n",
      "22:12:18 ==622==ERROR: AddressSanitizer: alloc-dealloc-mismatch (operator new [] vs operator delete) on 0x602000034030\n",
      "22:12:19 ==622==ABORTING\n",
      "xxxcde\n"
     ]
    },
    {
     "name": "stderr",
     "output_type": "stream",
     "text": [
      "/Users/hamelsmu/.local/share/virtualenvs/personal-TWLrR6Jp/lib/python3.7/site-packages/ipykernel_launcher.py:3: DeprecationWarning: \n",
      ".ix is deprecated. Please use\n",
      ".loc for label based indexing or\n",
      ".iloc for positional indexing\n",
      "\n",
      "See the documentation here:\n",
      "http://pandas.pydata.org/pandas-docs/stable/indexing.html#ix-indexer-is-deprecated\n",
      "  This is separate from the ipykernel package so we can avoid doing imports until\n"
     ]
    }
   ],
   "source": [
    "tst = sdf.ix[idx].clean_body\n",
    "print(tst)"
   ]
  },
  {
   "cell_type": "code",
   "execution_count": null,
   "metadata": {},
   "outputs": [],
   "source": []
  },
  {
   "cell_type": "code",
   "execution_count": 102,
   "metadata": {},
   "outputs": [
    {
     "name": "stderr",
     "output_type": "stream",
     "text": [
      "/Users/hamelsmu/.local/share/virtualenvs/personal-TWLrR6Jp/lib/python3.7/site-packages/ipykernel_launcher.py:1: DeprecationWarning: \n",
      ".ix is deprecated. Please use\n",
      ".loc for label based indexing or\n",
      ".iloc for positional indexing\n",
      "\n",
      "See the documentation here:\n",
      "http://pandas.pydata.org/pandas-docs/stable/indexing.html#ix-indexer-is-deprecated\n",
      "  \"\"\"Entry point for launching an IPython kernel.\n"
     ]
    },
    {
     "data": {
      "text/plain": [
       "'xxxhtmlxxxhtmlxxxlnbrkxxxhtmlxxxlnbrkxxxhtmlxxxlnbrkxxxhtmlxxxlnbrkxxxhtmlxxxhtmlxxxlnbrkxxxhtmlxxxlnbrkxxxhtmlxxxlnbrkxxxhtmlxxxhtmlxxxlnbrkxxxhtmlxxxlnbrkxxxhtmlxxxlnbrkxxxhtmlxxxlnbrkxxxhtml xxxhtml'"
      ]
     },
     "execution_count": 102,
     "metadata": {},
     "output_type": "execute_result"
    }
   ],
   "source": [
    "re.sub(r'<.+?>.+?</.+?>|<[a-zA-Z]{1,}.*?>', 'xxxhtml', sdf.ix[3227].body, re.DOTALL)"
   ]
  },
  {
   "cell_type": "code",
   "execution_count": 103,
   "metadata": {},
   "outputs": [],
   "source": [
    "tst = _"
   ]
  },
  {
   "cell_type": "code",
   "execution_count": 105,
   "metadata": {},
   "outputs": [
    {
     "data": {
      "text/plain": [
       "'xxxhtml'"
      ]
     },
     "execution_count": 105,
     "metadata": {},
     "output_type": "execute_result"
    }
   ],
   "source": [
    "re.sub('(xxxhtml(xxxlnbrk)?(\\s)?)+', 'xxxhtml', tst)"
   ]
  },
  {
   "cell_type": "markdown",
   "metadata": {},
   "source": [
    "# Notes"
   ]
  },
  {
   "cell_type": "markdown",
   "metadata": {},
   "source": [
    "- handle @mentions\n",
    "- would be nice to detect code that isnt inside \\`\\`\\` code blocks\n",
    "- handle ip addresses\n",
    "- consider getting rid of `xxxtext`"
   ]
  },
  {
   "cell_type": "code",
   "execution_count": null,
   "metadata": {},
   "outputs": [],
   "source": []
  }
 ],
 "metadata": {
  "kernelspec": {
   "display_name": "mdtokenizer",
   "language": "python",
   "name": "mdtokenizer"
  },
  "language_info": {
   "codemirror_mode": {
    "name": "ipython",
    "version": 3
   },
   "file_extension": ".py",
   "mimetype": "text/x-python",
   "name": "python",
   "nbconvert_exporter": "python",
   "pygments_lexer": "ipython3",
   "version": "3.7.2"
  }
 },
 "nbformat": 4,
 "nbformat_minor": 2
}
