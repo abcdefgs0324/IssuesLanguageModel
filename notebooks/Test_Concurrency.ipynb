{
 "cells": [
  {
   "cell_type": "code",
   "execution_count": 1,
   "metadata": {},
   "outputs": [
    {
     "name": "stderr",
     "output_type": "stream",
     "text": [
      "/Users/hamelsmu/.local/share/virtualenvs/mdtokenizer-LoCwqmVl/lib/python3.7/site-packages/sklearn/externals/joblib/__init__.py:15: DeprecationWarning: sklearn.externals.joblib is deprecated in 0.21 and will be removed in 0.23. Please import this functionality directly from joblib, which can be installed with: pip install joblib. If this warning is raised when loading pickled models, you may need to re-serialize those models with scikit-learn 0.21+.\n",
      "  warnings.warn(msg, category=DeprecationWarning)\n"
     ]
    }
   ],
   "source": [
    "from mdparse import transform_pre_rules, compose\n",
    "import pandas as pd\n",
    "from fastai.text.transform import ProcessPoolExecutor, partition_by_cores\n",
    "import numpy as np\n",
    "from fastai.core import parallel"
   ]
  },
  {
   "cell_type": "code",
   "execution_count": 2,
   "metadata": {},
   "outputs": [],
   "source": [
    "df = pd.concat([pd.read_csv(f'https://storage.googleapis.com/issue_label_bot/language_model_data/00000000000{i}.csv.gz' \n",
    "               )\n",
    "                for i in range(1)])"
   ]
  },
  {
   "cell_type": "code",
   "execution_count": 3,
   "metadata": {},
   "outputs": [],
   "source": [
    "texts = df.body.tolist()[:10000]"
   ]
  },
  {
   "cell_type": "code",
   "execution_count": 28,
   "metadata": {},
   "outputs": [],
   "source": [
    "def process_tuple_text(x, i):\n",
    "    title, body = x\n",
    "    t = compose(transform_pre_rules)\n",
    "    return 'xxxfldtitle '+ t(title) + ' xxxfldbody ' + t(body)"
   ]
  },
  {
   "cell_type": "code",
   "execution_count": 20,
   "metadata": {},
   "outputs": [],
   "source": [
    "def process_text(x, i):\n",
    "    return compose(transform_pre_rules)(x)\n",
    "    for t in transform_pre_rules:\n",
    "        x = t(x)\n",
    "    return x\n",
    "\n",
    "def process_text_l(x):\n",
    "    return [process_text(t) for t in x]"
   ]
  },
  {
   "cell_type": "code",
   "execution_count": 25,
   "metadata": {},
   "outputs": [],
   "source": [
    "tpltst = [tuple(x) for x in df.head(10000)[['title', 'body']].values]"
   ]
  },
  {
   "cell_type": "code",
   "execution_count": 15,
   "metadata": {},
   "outputs": [],
   "source": [
    "# with ProcessPoolExecutor(5) as e:\n",
    "#     tst = sum(e.map(process_text_l, partition_by_cores(texts, 5)), [])"
   ]
  },
  {
   "cell_type": "code",
   "execution_count": 12,
   "metadata": {},
   "outputs": [
    {
     "data": {
      "text/plain": [
       "' xxxlnbrk <!--- xxxlnbrk @huboard:{xxxdblqteorderxxxdblqte:0.999200359880033,xxxdblqtemilestone_orderxxxdblqte:0.9984013591843877} xxxlnbrk --> xxxlnbrk '"
      ]
     },
     "execution_count": 12,
     "metadata": {},
     "output_type": "execute_result"
    }
   ],
   "source": [
    "texts[np.argmin([len(x) for x in tst])]"
   ]
  },
  {
   "cell_type": "code",
   "execution_count": 29,
   "metadata": {},
   "outputs": [
    {
     "data": {
      "text/html": [
       "\n",
       "    <div>\n",
       "        <style>\n",
       "            /* Turns off some styling */\n",
       "            progress {\n",
       "                /* gets rid of default border in Firefox and Opera. */\n",
       "                border: none;\n",
       "                /* Needs to be in here for Safari polyfill so background images work as expected. */\n",
       "                background-size: auto;\n",
       "            }\n",
       "            .progress-bar-interrupted, .progress-bar-interrupted::-webkit-progress-bar {\n",
       "                background: #F44336;\n",
       "            }\n",
       "        </style>\n",
       "      <progress value='10000' class='' max='10000', style='width:300px; height:20px; vertical-align: middle;'></progress>\n",
       "      100.00% [10000/10000 00:15<00:00]\n",
       "    </div>\n",
       "    "
      ],
      "text/plain": [
       "<IPython.core.display.HTML object>"
      ]
     },
     "metadata": {},
     "output_type": "display_data"
    }
   ],
   "source": [
    "tst = parallel(process_tuple_text, tpltst)"
   ]
  },
  {
   "cell_type": "code",
   "execution_count": 32,
   "metadata": {},
   "outputs": [
    {
     "name": "stdout",
     "output_type": "stream",
     "text": [
      "xxxfldtitle Free stuff form? xxxfldbody Submit links or ways to get free stuff off companies \n",
      "\n",
      "xxxfldtitle French Version barcodes come at the top xxxfldbody This is wrong. xxxhtml \n",
      "\n",
      "xxxfldtitle Formulario para subscripcion de articulos. xxxfldbody xxxlistB Agregar un formulario para subscripcion de articulos. Analisar si hacerlo con firebase functions. Analizar si usar el formulario de Netlify. \n",
      " xxxlistE \n",
      "\n",
      "xxxfldtitle From the forum: Does AI Labs SDK for WCF support the NetMessagingBinding? xxxfldbody @tomasr, would you please reply on this xxxlnkhb social.msdn.microsoft.com xxxlnkhe forum question \n",
      "\n",
      "xxxfldtitle Freeze During xxxcdb nomad status xxxhtml xxxcde In 0.9.0-beta3 xxxfldbody Upgrading from 0.8.* to 0.9.0-beta3 causes hanging during xxxcdb nomad status xxxhtml xxxcde , ex (from a client node): \n",
      " xxxcdb $ nomad status 908bbc3b ID = 908bbc3b Modified = 5m42s ago \n",
      " xxxcde This seems to be new behavior. \n",
      " It also seems like the overall state of our system has gone from \" mostly working \" (0.8.3) to \" mostly not working \" (0.9.0-beta3). \n",
      "\n",
      "xxxfldtitle Fresh Build Fails. xxxfldbody I suspect things have moved around a bit and scripts have not kept pace with moving directories. \n",
      " xxxcdb npm WARN package.json mapnik@3.5.8 No license field. xxxfilepath line 3: 31146 Killed npm install mbtiles tilelive-mapnik tilelive-carto tilelive-tmstyle tilelive-tmsource tilelive-file tilelive-http tilelive-mapbox tilejson tilelive-vector tilelive-blend npm ERR! errno -13 npm ERR! syscall mkdir xxxcde Also \n",
      " xxxqb ` mapnik@3.5.8 preinstall xxxfilepath npm install node-pre-gyp npm ERR! Linux 3.13.0-74-generic npm ERR! errno -13 npm ERR! syscall mkdir \n",
      " xxxqe \n",
      "\n",
      "xxxfldtitle Functionality to 'Submit_Message' view xxxfldbody Whenever a user clicks on the submit button on the submission form the 'Submit Message' pop up on the same page \n",
      "\n",
      "xxxfldtitle Fritter hangs trying to connect to self xxxfldbody I'm not sure if this is a Fritter issue, a broader Beaker Browser bug, or a Beaker Browser on Linux bug. I opened firewall port 3282 on my firewall and on the VM running Beaker Browser and had the firewall redirect incoming traffic to xxunk (the IP of the VM) so that anything I post on Fritter is available through dat to the world. But now when I open any link inside Fritter, the content never loads and my debug log is filled with these messages: error (0ms) id=xxunk type=tcp host=:: xxrep 4 f :xxunk:3282 error=Error: Remote sent invalid feed message closing connection (2ms) id=xxunk type=tcp host=:: xxrep 4 f :xxunk:3282 closing connection (5002ms) id=xxunk type=utp host=xxunk:3282 error (7505ms) id=xxunk type=tcp host=:: xxrep 4 f :xxunk:3282 error=Error: Remote timed out closing connection (7507ms) id=xxunk type=tcp host=:: xxrep 4 f :xxunk:3282 and then it starts over error (4ms) id=xxunk type=tcp host=:: xxrep 4 f :xxunk:3282 error=Error: Remote sent invalid feed message \n",
      "\n",
      "xxxfldtitle Function parameters in xxunk xxxfldbody Hello, please forgive my poor English. I have a function to add to the xxunk But I found that it will report an error: \n",
      " xxxcdb lang-emacs-lisp Company: An error occurred in auto-begin Wrong number of arguments: (lambda nil (if (setq remx-indent-guide-on-p (and (boundp (quote indent-guide-mode)) indent-guide-mode)) (progn (indent-guide-mode -1 xxrep 4 ) , 1 \n",
      " xxxcde My function: \n",
      " xxxcdb lang-elisp (defun remx / turn-off-indent-guide () (when (setq remx-indent-guide-on-p (bound-and-true-p indent-guide-mode)) (indent-guide-mode -1))) \n",
      " xxxcde So how can I avoid this error? Thank you. \n",
      "\n",
      "xxxfldtitle GAME: Charges and Durability on Molecular Reassembly Terminals xxxfldbody Currently players cannot reassemble components with +Charges and +Durability because we don't track these stats separately. This means we can't tell the difference between charges and durability which appear naturally on the item versus charges and durability which were added through using components. I don't want natural charges and durability to be factored in when reassembling. For this reason I left both of these properties out of the terminal options. However, players should be able to reassemble components with these properties so we need to look at making this work. \n",
      "\n"
     ]
    }
   ],
   "source": [
    "for i in tst[25:35]:\n",
    "    print(i, '\\n')"
   ]
  },
  {
   "cell_type": "code",
   "execution_count": 14,
   "metadata": {},
   "outputs": [
    {
     "name": "stdout",
     "output_type": "stream",
     "text": [
      "After being blown up by the barrel, I got stuck on top of the wall near it; there is also a hole that could cause the player to fall through the map if they got up there. xxxlnbrk ![feedbackjpark8_2](https://cloud.githubusercontent.com/assets/18125486/14191463/fd4405e2-f765-11e5-8f88-ad1c4dd0314d.JPG) xxxlnbrk  \n",
      "\n",
      "What is the appropriate way to set NODE_ENV for unit testing? xxxlnbrk I am asking because I have a testconfig.js that sets up stuff like chai and also the NODE_ENV variable, and I can't get it to integrate nicely into VS2013. Using mocha --require is fine from the shell, but the VS2013 test and test debugging seem to require a different mechanism for setting up. xxxlnbrk Is there some way to use the .testrunconfig og .testconfig files for setting up the testing, and if so then could I have a sample. \n",
      "\n",
      "## User story xxxlnbrk - En tant que :  **gestionnaire** xxxlnbrk - Je souhaite :  **pouvoir créer mon propre catalogue**  xxxlnbrk - Pour :  **gagner du temps** xxxlnbrk ## Conditions de validation  xxxlnbrk - Le json doit intégrer tous les éléments : titre, desc, version, url, icône... xxxlnbrk - Le json doit être testé (lint) pour s'assurer de sa validité avant d'être proposé au client xxxlnbrk - Le json doit être accompagné des dossiers et des icônes associées xxxlnbrk  \n",
      "\n",
      "**Rancher Version:** xxxlnbrk rancher/enterprise:v1.1.0 xxxlnbrk **Docker Version:** xxxlnbrk 1.10.3 xxxlnbrk **OS and where are the hosts located? (cloud, bare metal, etc):** xxxlnbrk RHEL 7.2 xxxlnbrk **Setup Details: (single node rancher vs. HA rancher, internal DB vs. external DB)** xxxlnbrk HA rancher xxxlnbrk **Environment Type: (Cattle/Kubernetes/Swarm/Mesos)** xxxlnbrk Cattle xxxlnbrk **Steps to Reproduce:** xxxlnbrk Turn on HA and input your own self-singed certs xxxlnbrk **Results:**  xxxlnbrk rancher-ha.sh script is generated without the keys & certs xxxlnbrk **Expected:** xxxlnbrk rancher-ha.sh script generated with keys & certs xxxlnbrk  \n",
      "\n",
      "I can't connect to HITBTC anymore since 5CET: xxxlnbrk 05/29 09:38:16.123918 GW Errrror: Unable to fetch data from HITBTC for symbol xxxdblqteMAIDBTCxxxdblqte, possible error message: {xxxdblqteerrorxxxdblqte:xxxdblqteCURL Error: Couldn't connect to serverxxxdblqte}. xxxlnbrk Seems to be a HITBTC problem, isn't it? \n",
      "\n"
     ]
    }
   ],
   "source": [
    "for i in texts[:5]:\n",
    "    print(i, '\\n')"
   ]
  },
  {
   "cell_type": "code",
   "execution_count": null,
   "metadata": {},
   "outputs": [],
   "source": []
  }
 ],
 "metadata": {
  "kernelspec": {
   "display_name": "mdtokenizer",
   "language": "python",
   "name": "mdtokenizer"
  },
  "language_info": {
   "codemirror_mode": {
    "name": "ipython",
    "version": 3
   },
   "file_extension": ".py",
   "mimetype": "text/x-python",
   "name": "python",
   "nbconvert_exporter": "python",
   "pygments_lexer": "ipython3",
   "version": "3.7.2"
  }
 },
 "nbformat": 4,
 "nbformat_minor": 2
}
