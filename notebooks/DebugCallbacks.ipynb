{
 "cells": [
  {
   "cell_type": "code",
   "execution_count": 46,
   "metadata": {},
   "outputs": [],
   "source": [
    "import os\n",
    "\n",
    "# so I don't \n",
    "os.environ[\"CUDA_DEVICE_ORDER\"]=\"PCI_BUS_ID\"   # see issue #152\n",
    "os.environ[\"CUDA_VISIBLE_DEVICES\"]=\"-1\"  #prevent access to GPU for inference\n",
    "\n",
    "import pandas as pd\n",
    "pd.options.display.max_rows = 150\n",
    "pd.options.display.max_colwidth = 500\n",
    "import json\n",
    "from mdparse import transform_pre_rules, compose\n",
    "from pathlib import Path\n",
    "from tqdm import tqdm_notebook\n",
    "\n",
    "from fastai.text import TextLMDataBunch as lmdb\n",
    "from fastai.text.transform import Tokenizer\n",
    "import pandas as pd\n",
    "from pathlib import Path\n",
    "from random import shuffle\n",
    "\n",
    "from fastai.text.models import AWD_LSTM, awd_lstm_lm_config\n",
    "from fastai.text import TextLMDataBunch as lmdb, load_data\n",
    "from fastai.text.learner import language_model_learner\n",
    "from fastai.basic_train import load_learner\n",
    "from fastai.callbacks import EarlyStoppingCallback, SaveModelCallback, ReduceLROnPlateauCallback, CSVLogger"
   ]
  },
  {
   "cell_type": "code",
   "execution_count": 47,
   "metadata": {},
   "outputs": [
    {
     "data": {
      "text/plain": [
       "{'emb_sz': 800,\n",
       " 'n_hid': 1800,\n",
       " 'n_layers': 3,\n",
       " 'pad_token': 1,\n",
       " 'qrnn': False,\n",
       " 'bidir': False,\n",
       " 'output_p': 0.1,\n",
       " 'hidden_p': 0.15,\n",
       " 'input_p': 0.25,\n",
       " 'embed_p': 0.02,\n",
       " 'weight_p': 0.2,\n",
       " 'tie_weights': True,\n",
       " 'out_bias': True}"
      ]
     },
     "execution_count": 47,
     "metadata": {},
     "output_type": "execute_result"
    }
   ],
   "source": [
    "awd_lstm_lm_config"
   ]
  },
  {
   "cell_type": "code",
   "execution_count": 50,
   "metadata": {},
   "outputs": [],
   "source": [
    "path = Path('lang_model_debug/')\n",
    "\n",
    "def pass_through(x):\n",
    "    return x\n",
    "\n",
    "\n",
    "valid_df = pd.read_pickle('valid_df.pkl').dropna().drop_duplicates().head(25)\n",
    "train_df = valid_df"
   ]
  },
  {
   "cell_type": "code",
   "execution_count": 51,
   "metadata": {},
   "outputs": [],
   "source": [
    "tokenizer = Tokenizer(pre_rules=[pass_through], n_cpus=30)\n",
    "\n",
    "data_lm = lmdb.from_df(path=path,\n",
    "                       train_df=train_df,\n",
    "                       valid_df=valid_df,\n",
    "                       text_cols='text',\n",
    "                       tokenizer=tokenizer)"
   ]
  },
  {
   "cell_type": "code",
   "execution_count": 52,
   "metadata": {},
   "outputs": [],
   "source": [
    "learn = language_model_learner(data=data_lm,\n",
    "                               arch=AWD_LSTM,\n",
    "                               pretrained=False)"
   ]
  },
  {
   "cell_type": "code",
   "execution_count": 54,
   "metadata": {},
   "outputs": [],
   "source": [
    "learn.path = Path('lang_model_debug_v2')"
   ]
  },
  {
   "cell_type": "code",
   "execution_count": 55,
   "metadata": {},
   "outputs": [],
   "source": [
    "escb = EarlyStoppingCallback(learn=learn, patience=4)\n",
    "smcb = SaveModelCallback(learn=learn)\n",
    "rpcb = ReduceLROnPlateauCallback(learn=learn, patience=3)\n",
    "csvcb = CSVLogger(learn=learn)\n",
    "callbacks = [escb, smcb, rpcb, csvcb]"
   ]
  },
  {
   "cell_type": "code",
   "execution_count": 56,
   "metadata": {},
   "outputs": [
    {
     "data": {
      "text/html": [
       "<table border=\"1\" class=\"dataframe\">\n",
       "  <thead>\n",
       "    <tr style=\"text-align: left;\">\n",
       "      <th>epoch</th>\n",
       "      <th>train_loss</th>\n",
       "      <th>valid_loss</th>\n",
       "      <th>accuracy</th>\n",
       "      <th>time</th>\n",
       "    </tr>\n",
       "  </thead>\n",
       "  <tbody>\n",
       "    <tr>\n",
       "      <td>0</td>\n",
       "      <td>6.153545</td>\n",
       "      <td>6.000374</td>\n",
       "      <td>0.127567</td>\n",
       "      <td>00:17</td>\n",
       "    </tr>\n",
       "  </tbody>\n",
       "</table>"
      ],
      "text/plain": [
       "<IPython.core.display.HTML object>"
      ]
     },
     "metadata": {},
     "output_type": "display_data"
    },
    {
     "name": "stdout",
     "output_type": "stream",
     "text": [
      "Better model found at epoch 0 with valid_loss value: 6.000373840332031.\n"
     ]
    }
   ],
   "source": [
    "learn.fit(1, callbacks=callbacks)"
   ]
  },
  {
   "cell_type": "code",
   "execution_count": 16,
   "metadata": {},
   "outputs": [
    {
     "data": {
      "text/plain": [
       "fastai.callbacks.rnn.RNNTrainer"
      ]
     },
     "execution_count": 16,
     "metadata": {},
     "output_type": "execute_result"
    }
   ],
   "source": [
    "type(learn.callbacks[0])"
   ]
  },
  {
   "cell_type": "code",
   "execution_count": 18,
   "metadata": {},
   "outputs": [
    {
     "name": "stdout",
     "output_type": "stream",
     "text": [
      "history.csv  models\r\n"
     ]
    }
   ],
   "source": [
    "! ls lang_model_debug/"
   ]
  },
  {
   "cell_type": "code",
   "execution_count": 20,
   "metadata": {},
   "outputs": [],
   "source": [
    "data_lm.save()"
   ]
  },
  {
   "cell_type": "code",
   "execution_count": 57,
   "metadata": {},
   "outputs": [
    {
     "ename": "AttributeError",
     "evalue": "'LanguageLearner' object has no attribute 'bs'",
     "output_type": "error",
     "traceback": [
      "\u001b[0;31m---------------------------------------------------------------------------\u001b[0m",
      "\u001b[0;31mAttributeError\u001b[0m                            Traceback (most recent call last)",
      "\u001b[0;32m<ipython-input-57-d5c87b19668e>\u001b[0m in \u001b[0;36m<module>\u001b[0;34m\u001b[0m\n\u001b[0;32m----> 1\u001b[0;31m \u001b[0mlearn\u001b[0m\u001b[0;34m.\u001b[0m\u001b[0mbs\u001b[0m\u001b[0;34m\u001b[0m\u001b[0;34m\u001b[0m\u001b[0m\n\u001b[0m",
      "\u001b[0;31mAttributeError\u001b[0m: 'LanguageLearner' object has no attribute 'bs'"
     ]
    }
   ],
   "source": [
    "learn.bs"
   ]
  },
  {
   "cell_type": "markdown",
   "metadata": {},
   "source": [
    "## Reload"
   ]
  },
  {
   "cell_type": "code",
   "execution_count": 41,
   "metadata": {},
   "outputs": [
    {
     "data": {
      "text/plain": [
       "{'emb_sz': 800,\n",
       " 'n_hid': 1800,\n",
       " 'n_layers': 3,\n",
       " 'pad_token': 1,\n",
       " 'qrnn': False,\n",
       " 'bidir': False,\n",
       " 'output_p': 0.1,\n",
       " 'hidden_p': 0.15,\n",
       " 'input_p': 0.25,\n",
       " 'embed_p': 0.02,\n",
       " 'weight_p': 0.2,\n",
       " 'tie_weights': True,\n",
       " 'out_bias': True}"
      ]
     },
     "execution_count": 41,
     "metadata": {},
     "output_type": "execute_result"
    }
   ],
   "source": [
    "awd_lstm_lm_config"
   ]
  },
  {
   "cell_type": "code",
   "execution_count": 62,
   "metadata": {},
   "outputs": [],
   "source": [
    "data_lm = load_data(path, bs=128)"
   ]
  },
  {
   "cell_type": "code",
   "execution_count": 59,
   "metadata": {},
   "outputs": [],
   "source": [
    "learn = language_model_learner(data=data_lm,\n",
    "                               arch=AWD_LSTM,\n",
    "                               pretrained=False,\n",
    "                               config=awd_lstm_lm_config.update(dict(n_hid=1800, emb_sz=800)),\n",
    "                              )\n",
    "\n",
    "#learn.load('bestmodel')"
   ]
  },
  {
   "cell_type": "code",
   "execution_count": 40,
   "metadata": {},
   "outputs": [
    {
     "data": {
      "text/html": [],
      "text/plain": [
       "<IPython.core.display.HTML object>"
      ]
     },
     "metadata": {},
     "output_type": "display_data"
    },
    {
     "name": "stdout",
     "output_type": "stream",
     "text": [
      "LR Finder is complete, type {learner_name}.recorder.plot() to see the graph.\n"
     ]
    }
   ],
   "source": [
    "learn.lr_find(num_it=1)"
   ]
  },
  {
   "cell_type": "code",
   "execution_count": 31,
   "metadata": {},
   "outputs": [
    {
     "data": {
      "text/plain": [
       "======================================================================\n",
       "Layer (type)         Output Shape         Param #    Trainable \n",
       "======================================================================\n",
       "RNNDropout           [70, 800]            0          False     \n",
       "______________________________________________________________________\n",
       "RNNDropout           [70, 1800]           0          False     \n",
       "______________________________________________________________________\n",
       "RNNDropout           [70, 1800]           0          False     \n",
       "______________________________________________________________________\n",
       "Linear               [70, 1036]           829,836    True      \n",
       "______________________________________________________________________\n",
       "RNNDropout           [70, 800]            0          False     \n",
       "______________________________________________________________________\n",
       "\n",
       "Total params: 829,836\n",
       "Total trainable params: 829,836\n",
       "Total non-trainable params: 0"
      ]
     },
     "execution_count": 31,
     "metadata": {},
     "output_type": "execute_result"
    }
   ],
   "source": [
    "learn.summary()"
   ]
  },
  {
   "cell_type": "code",
   "execution_count": 5,
   "metadata": {},
   "outputs": [
    {
     "data": {
      "text/html": [
       "<table border=\"1\" class=\"dataframe\">\n",
       "  <thead>\n",
       "    <tr style=\"text-align: left;\">\n",
       "      <th>epoch</th>\n",
       "      <th>train_loss</th>\n",
       "      <th>valid_loss</th>\n",
       "      <th>accuracy</th>\n",
       "      <th>time</th>\n",
       "    </tr>\n",
       "  </thead>\n",
       "  <tbody>\n",
       "    <tr>\n",
       "      <td>0</td>\n",
       "      <td>6.690278</td>\n",
       "      <td>6.550413</td>\n",
       "      <td>0.262723</td>\n",
       "      <td>00:09</td>\n",
       "    </tr>\n",
       "    <tr>\n",
       "      <td>1</td>\n",
       "      <td>6.686635</td>\n",
       "      <td>6.532144</td>\n",
       "      <td>0.262723</td>\n",
       "      <td>00:09</td>\n",
       "    </tr>\n",
       "    <tr>\n",
       "      <td>2</td>\n",
       "      <td>6.679404</td>\n",
       "      <td>6.511220</td>\n",
       "      <td>0.262723</td>\n",
       "      <td>00:09</td>\n",
       "    </tr>\n",
       "    <tr>\n",
       "      <td>3</td>\n",
       "      <td>6.674406</td>\n",
       "      <td>6.489294</td>\n",
       "      <td>0.262723</td>\n",
       "      <td>00:09</td>\n",
       "    </tr>\n",
       "  </tbody>\n",
       "</table>"
      ],
      "text/plain": [
       "<IPython.core.display.HTML object>"
      ]
     },
     "metadata": {},
     "output_type": "display_data"
    },
    {
     "name": "stdout",
     "output_type": "stream",
     "text": [
      "Better model found at epoch 0 with valid_loss value: 6.550412654876709.\n",
      "Better model found at epoch 1 with valid_loss value: 6.532143592834473.\n",
      "Better model found at epoch 2 with valid_loss value: 6.5112199783325195.\n",
      "Better model found at epoch 3 with valid_loss value: 6.489294052124023.\n"
     ]
    }
   ],
   "source": [
    "data_lm = load_data(path, bs=128)\n",
    "\n",
    "\n",
    "learn = language_model_learner(data=data_lm,\n",
    "                               arch=AWD_LSTM,\n",
    "                               pretrained=False)\n",
    "\n",
    "learn.load('bestmodel')\n",
    "# callbacks\n",
    "escb = EarlyStoppingCallback(learn=learn, patience=4)\n",
    "smcb = SaveModelCallback(learn=learn)\n",
    "rpcb = ReduceLROnPlateauCallback(learn=learn, patience=3)\n",
    "csvcb = CSVLogger(learn=learn)\n",
    "callbacks = [escb, smcb, rpcb, csvcb]\n",
    "\n",
    "\n",
    "learn.fit(epochs=4, lr=1e-5, callbacks=callbacks)"
   ]
  },
  {
   "cell_type": "code",
   "execution_count": 25,
   "metadata": {},
   "outputs": [],
   "source": [
    "learn.export()"
   ]
  },
  {
   "cell_type": "code",
   "execution_count": 26,
   "metadata": {},
   "outputs": [],
   "source": [
    "learn2 = load_learner(path)"
   ]
  },
  {
   "cell_type": "code",
   "execution_count": 30,
   "metadata": {},
   "outputs": [
    {
     "name": "stdout",
     "output_type": "stream",
     "text": [
      "epoch,train_loss,valid_loss,accuracy,time\r\n",
      "0,3.726073,3.523209,0.375969,15:40:15\r\n"
     ]
    }
   ],
   "source": [
    "! cat lang_model_onecycle/history.csv"
   ]
  },
  {
   "cell_type": "code",
   "execution_count": null,
   "metadata": {},
   "outputs": [],
   "source": []
  }
 ],
 "metadata": {
  "kernelspec": {
   "display_name": "Python 3",
   "language": "python",
   "name": "python3"
  },
  "language_info": {
   "codemirror_mode": {
    "name": "ipython",
    "version": 3
   },
   "file_extension": ".py",
   "mimetype": "text/x-python",
   "name": "python",
   "nbconvert_exporter": "python",
   "pygments_lexer": "ipython3",
   "version": "3.6.7"
  }
 },
 "nbformat": 4,
 "nbformat_minor": 2
}
